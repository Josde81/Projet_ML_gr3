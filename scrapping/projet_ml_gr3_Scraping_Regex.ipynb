{
 "cells": [
  {
   "cell_type": "code",
   "execution_count": null,
   "metadata": {},
   "outputs": [],
   "source": [
    "from selenium import webdriver\n",
    "from selenium.webdriver.common.keys import Keys\n",
    "from selenium.webdriver.common.action_chains import ActionChains\n",
    "from selenium.webdriver.common.by import By\n",
    "from selenium.webdriver.support.ui import WebDriverWait\n",
    "from selenium.webdriver.support import expected_conditions as EC\n",
    "from selenium.common.exceptions import TimeoutException\n",
    "from selenium.common import exceptions\n",
    "from selenium.webdriver.common.keys import Keys\n",
    "import pandas as pd\n",
    "import random\n",
    "import numpy as np\n",
    "import time"
   ]
  },
  {
   "cell_type": "code",
   "execution_count": null,
   "metadata": {},
   "outputs": [],
   "source": [
    "import re"
   ]
  },
  {
   "cell_type": "code",
   "execution_count": null,
   "metadata": {},
   "outputs": [],
   "source": [
    "#Juste essai\n",
    "texte_indeed = \"Equancy recherche un data scientist passionné pour rejoindre sa practice Data. Au sein du pôle Data Science, nous développons et mettons en œuvre des modèles de data science dans le cadre de projets pour des directions marketing et de ressources humaines. Notre marque de fabrique est l’utilisation créative de la data science pour atteindre les objectifs des stratégies métier de nos clients, en marketing, digital, média, social et ressources humaines.Vous pourrez participer dès votre arrivée à un passionnant projet de détection de fraude dans le secteur banque et assurance pour le compte d’un de nos clients, qui vise à mettre en production un outil de détection de fraude. La collaboration avec le laboratoire de data science de notre client offre des perspectives particulièrement intéressantes. Profil recherché :Vous avez une formation bac + 5 en université ou école d’ingénieur, avec une spécialisation Data Science, et 1 à 3 ans d’expérience en tant que data scientist.Vous aimez, comme nous, travailler en Python, pandas et scikit-learn, PowerBI,mais n’êtes pas rebuté par R, car nous en faisons aussi dans certains projets.Vous connaissez Spark pour le calcul distribué.Si vous connaissez Dataiku DSS, c’est bien, nous l’utilisons sur certains projets. Si vous connaissez Scala, c’est un plus. Vous avez un très bon sens du relationnel et vous intéressez aussi au métier, pas qu’aux algorithmes.Anglais et Français courants sont impératifs. Une première expérience en fraude et/ou assurance est un atout.A propos d’Equancy Data. Nos équipes sont composées de consultants de niveau junior à manager, spécialistes et experts en data science, data engineering et analyse de performance. L’activité est structurée autour de 3 pôles : Data Science : nous construisons des modèles de data science (algorithmes de recommandations, modèles prédictifs, segmentations, scores, etc.) pour modéliser et prévoir des comportements clients dans le cadre des stratégies marketing, média, CRM, sociales, RH, etc. de nos clients.Data Technologies : nous déployons et maintenons des infrastructures et applications big data, que ce soit des portails de data visualisation, des applications de Machine Learning (moteur de recommandations, catégorisations de textes, alertes fraudes, qualification d’images, etc.). Nous conseillons aussi nos clients dans les choix de technologies marketing autour de la data (MDM, DMP, gestion de campagnes, BI, etc.). Data Performance : nous définissons les KPIs de mesure de performance des stratégies marketing, digital, media, CRM, sociale de nos clients et analysons continument les résultats pour recommander des optimisations de plans d’actions.Conditions Type de contrat: CDI,fhdjkfhjdkf,c,r,R ,R,  fdf,python,c, c++, java,javascript,react js,dgf,hhghg,php, vba, hgh\""
   ]
  },
  {
   "cell_type": "markdown",
   "metadata": {},
   "source": [
    "Si dans texte brut regex à faire: regex true"
   ]
  },
  {
   "cell_type": "markdown",
   "metadata": {},
   "source": [
    "Desscriptif du poste : texte brut : div avec id=\"vjs-content\""
   ]
  },
  {
   "cell_type": "markdown",
   "metadata": {},
   "source": [
    "Données à scrapper en regex (2 jours)\n",
    "- Salaire\n",
    "- Descriptif du poste\n",
    "- Type de contrat\n",
    "- Nombres d'années d'expérience\n",
    "- Niveau d'études\n",
    "- Formation\n",
    "- Technologie exigée"
   ]
  },
  {
   "cell_type": "code",
   "execution_count": null,
   "metadata": {},
   "outputs": [],
   "source": [
    "#Nom de l'entreprise\n",
    "\n",
    "#Localisation\n",
    "\n",
    "#Intitulé du poste\n",
    "\n",
    "#Descriptif du poste : regex true\n",
    "#Junior, modifie à ta convenance pour récupérer le texte brute\n",
    "# ici pour le texte sur lesquels ont les regex est liste_descriptif_text\n",
    "liste_descriptif = browser.find_elements_by_tag_name('div.vjs-content')\n",
    "liste_descriptif_text = [ele.text for ele in liste_descriptif]\n",
    "#Les autres requêtes Regex se font sur liste_descriptif_text\n",
    "\n",
    "#Taille de l'entreprise (start-up, PME, Grands Groupes...): regex true , linkedin true\n",
    "\n",
    "#Type d'entreprise (industrie, secteur): regex true, linkedin true\n",
    "\n",
    "#Niveau d'expérience : regex true\n",
    "type_contrat_re = re.findall('([(e|E)\\w+]xpérience?:?\\s\\d{1,15} ans?)|([(e|E)\\w+]xpérience?\\s?de\\s?\\d{1,15} ans?)|(\\d{1,15} ans d\\'[e|E]xpérience[s]?)',liste_descriptif_text)\n",
    "\n",
    "#Salaire ajusté en fonction du coût de la vie dans les différentes villes : regex true\n",
    "salaires_re = re.findall('(\\d{2,3}\\s?(k|K)?)|(\\d{2,3}\\s?\\d{3,5}\\s?(k|K)?)|([(s|S)]alaire?[\\s]?:?[\\s]?\\d{2,6}k?)|([(r|R)]émunération?[\\s]?:?[\\s]?\\d{2,6}k?)|([(g|G)]ratification?[\\s]?:?[\\s]?\\d{2,6}k?)',liste_descriptif_text)\n",
    "\n",
    "#Langages de programmation requis (R, Python, Excel (VBA), SQL, C++, Java, SAS...): regex true\n",
    "langages_prog_re = re.findall('(R+[^\\w])|([(p|P)\\w+]ython?)|(Excel?)|(VBA?)|([(c|C)\\w+]\\+\\+?)|([(c|C)\\w+][^\\w]?)|(Asp.net?)|(SQL?)|(NoSQL?)|(Linux?)|(MySQL?)|(MongoDB?)|(DBMaria?)|(SQL Server?)|(Java?)|(JavaScript?)|(PHP?\\s?\\d{1,}?)|(HTML?\\s?\\d{1,}?)|(CSS?\\s?\\d{1,}?)|(SAS?)|(C#?)|(Ruby?)|(Swift?)|(Objective-C?)|(VB.NET?)|(Kotlin?)|(Scala?)|(Bash?)|(PowerShell?)|(Shell?)',liste_descriptif_text)\n",
    "\n",
    "#Outils requis (Tableau, PowerBI...) : regex true\n",
    "outils_re = re.findall('([(t|T)\\w+]ableau?)|([(p|P)\\w+]ower[(b|B)\\w+][(i|I)\\w+]?)|([(s|S)\\w+]ymfony?\\s?\\d{1,}?)|([(j|J)\\w+][(q|Q)\\w+]uery?\\s?\\d{1,}?)|([(a|A)\\w+]ngular?[\\s?\\d{1,}]?)|([(r|R)\\w+]eact [(j|J)\\w+][(s|S)\\w+]?)|(React Native?)|(Node JS?)|([(g|G)\\w+]it?)|(Visual Studio?)|(Visual Studio Code?)|(Django?)|(Flask?)|(API REST?)|(http?s?)|(HTTP?S?)',liste_descriptif_text)\n",
    "\n",
    "#Niveau d'études requis : regex true\n",
    "niv_formation_re = re.findall('([(f|F)\\w+]ormation?\\s?[(b|B)\\w+]ac\\s\\+\\s[1-8])|([(b|B)\\w+]ac\\s\\+\\s[1-8])',liste_descriptif_text)\n",
    "\n",
    "#Type de cursus (école ingénieur, master, autodidacte...) : regex true\n",
    "niv_etudes_re = re.findall('([(é|E)\\w+]cole [(i|I)\\w+]ngénieur?)|([(m|M)\\w+]aster?\\s?\\w{3,25})|([(a|A)\\w+]utodidacte?)|([(g|G)\\w+]rande[s]? [(é|E)\\w+]cole[s]?)|([(é|E)\\w+]cole[s]? de [(c|C)\\w+]ommerce[s]?)|([(i|I)\\w+]ngénieur [(i|I)\\w+]nformatique?)',liste_descriptif_text)\n",
    "\n",
    "#Type de contrat : regex true\n",
    "type_contrat_re = re.findall('[(c|C)\\w+]ontrat?:?\\s\\w{3,25}',liste_descriptif_text)\n",
    "\n",
    "#Date de publication de l’annonce : regex true\n",
    "\n",
    "#Grande catégorie : développeur (developeur web, dev mobile,dev) / data regex true\n",
    "categorie_developpeur_re = re.findall('([(d|D)\\w+]éveloppeu[(r|s)]e? [(f|F)\\w+]ull? [(s|S)\\w+]tack)|([(d|D)\\w+]éveloppeu[(r|s)]e? [(f|F)\\w+]ront[(\\s|\\-)][(e|E)\\w+]nd?)|(développeu[(r|s)]e? Back[(\\s|\\-)][(e|E)\\w+]nd?)|([(d|D)\\w+]éveloppeu[(r|s)]e? [(m|M)\\w+]obile?)|([(d|D)\\w+]éveloppeu[(r|s)]e? [(l|L)\\w+]ogiciel?)|([(s|S)\\w+]oftware [(i|I)\\w+]ngenieer?)|([(d|D)\\w+]éveloppeu[(r|s)]e? [(l|L)\\w+]ogiciels?)|([(d|D)\\w+]éveloppeu[(r|s)]e? [(C|c)\\w+]\\+\\+?)|([(d|D)\\w+]éveloppeu[(r|s)]e? [(c|C)\\w+]#?)|([(d|D)\\w+]éveloppeu[(r|s)]e? [(j|J)\\w+]ava?)',liste_descriptif_text)\n",
    "\n",
    "#Grande catégorie : data regex true\n",
    "categorie_data_re = re.findall('([(d|D)\\w+]ata [(a|A)\\w+]nalyst?)|([(d|D)\\w+]ata [(s|S)\\w+]cientist?)|([(i|I)\\w+]ngénieu[(r|s)]e? [(m|M)\\w+]achine [(i|I)\\w+]earning?)|([(c|C)\\w+]onsultant [(b|B)\\w+]usiness [(i|I)\\w+]ntelligence)|([(c|C)\\w+]onsultant [(d|D)\\w+]ata)|([(c|C)\\w+]onsultant [(b|B)\\w+]ig [(d|D)\\w+]ata)|([(c|C)\\w+]onsultant BI)',liste_descriptif_text)"
   ]
  },
  {
   "cell_type": "code",
   "execution_count": null,
   "metadata": {},
   "outputs": [],
   "source": [
    ">>> m = re.match(r\"(\\w+) (\\w+)\", \"Isaac Newton, physicist\")\n",
    ">>> m.group(0)       # The entire match\n",
    "'Isaac Newton'\n",
    ">>> m.group(1)       # The first parenthesized subgroup.\n",
    "'Isaac'\n",
    ">>> m.group(2)       # The second parenthesized subgroup.\n",
    "'Newton'\n",
    ">>> m.group(1, 2)    # Multiple arguments give us a tuple.\n",
    "('Isaac', 'Newton')"
   ]
  },
  {
   "cell_type": "code",
   "execution_count": null,
   "metadata": {},
   "outputs": [],
   "source": [
    "langages_prog_re = re.match(r'(R+[^\\w])|([(p|P)\\w+]ython?)|(Excel?)|(VBA?)|([(c|C)\\w+]\\+\\+?)|([(c|C)\\w+][^\\w]?)|(Asp.net?)|(SQL?)|(NoSQL?)|(Linux?)|(MySQL?)|(MongoDB?)|(DBMaria?)|(SQL Server?)|(Java?)|(JavaScript?)|(PHP?\\s?\\d{1,}?)|(HTML?\\s?\\d{1,}?)|(CSS?\\s?\\d{1,}?)|(SAS?)|(C#?)|(Ruby?)|(Swift?)|(Objective-C?)|(VB.NET?)|(Kotlin?)|(Scala?)|(Bash?)|(PowerShell?)|(Shell?)',texte_indeed)"
   ]
  },
  {
   "cell_type": "code",
   "execution_count": null,
   "metadata": {},
   "outputs": [],
   "source": []
  }
 ],
 "metadata": {
  "kernelspec": {
   "display_name": "Python 3",
   "language": "python",
   "name": "python3"
  },
  "language_info": {
   "codemirror_mode": {
    "name": "ipython",
    "version": 3
   },
   "file_extension": ".py",
   "mimetype": "text/x-python",
   "name": "python",
   "nbconvert_exporter": "python",
   "pygments_lexer": "ipython3",
   "version": "3.7.3"
  }
 },
 "nbformat": 4,
 "nbformat_minor": 2
}
